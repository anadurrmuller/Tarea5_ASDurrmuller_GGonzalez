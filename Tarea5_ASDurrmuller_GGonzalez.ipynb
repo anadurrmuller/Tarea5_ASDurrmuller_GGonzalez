{
 "cells": [
  {
   "cell_type": "markdown",
   "metadata": {},
   "source": [
    "<img style=\"float: left; margin: 30px 15px 15px 15px;\" src=\"https://pngimage.net/wp-content/uploads/2018/06/logo-iteso-png-5.png\" width=\"300\" height=\"500\" /> \n",
    "    \n",
    "    \n",
    "### <font color='navy'> Simulación de Procesos Financieros. \n",
    "\n",
    "**Nombres:** Ana Sofia Durrmuller Acosta y Gerardo González Flores\n",
    "\n",
    "**Fecha:** 8 de octubre del 2021.\n",
    "\n",
    "**Expediente** : if723489 if721430\n",
    "\n",
    "**Profesor:** Oscar David Jaramillo Zuluaga.\n",
    "    \n",
    "**Link Github**: https://github.com/anadurrmuller/Tarea5_ASDurrmuller_GGonzalez.git\n",
    "\n",
    "# Tarea 5"
   ]
  },
  {
   "cell_type": "code",
   "execution_count": 1,
   "metadata": {},
   "outputs": [],
   "source": [
    "import numpy as np\n",
    "import matplotlib.pyplot as plt\n",
    "import pandas as pd"
   ]
  },
  {
   "cell_type": "markdown",
   "metadata": {},
   "source": [
    "> Para las siguiente dos funciones, genere muestres aleatorias que distribuyan según la función dada usando el método de la transformada inversa y grafique el histograma de 1000 muestras generadas con el método de la transformada inversa y compárela con el función $f(x)$ *(recuerde que $f(x)$ es la distribución de probabilidad y $F(x)$ es la distribución de probabilidad acumulada)* [ver este enlace para más información](https://es.wikipedia.org/wiki/Funci%C3%B3n_de_distribuci%C3%B3n). Este procedimiento se realiza con el fín de validar que el procedimiento y los resultados son correctos.\n",
    "    \n",
    "> 1. Generación variable aleatoria continua\n",
    ">El tiempo en el cual un movimiento browniano se mantiene sobre su punto máximo en el intervalo [0,1] tiene una distribución\n",
    ">$$F(x)=\\frac{2}{\\pi}\\sin^{-1}(\\sqrt x),\\quad 0\\leq x\\leq 1$$ </font>\n",
    "\n"
   ]
  },
  {
   "cell_type": "markdown",
   "metadata": {},
   "source": [
    "### Respuestas Estudiante 1. Ana Sofia"
   ]
  },
  {
   "cell_type": "code",
   "execution_count": null,
   "metadata": {},
   "outputs": [],
   "source": []
  },
  {
   "cell_type": "code",
   "execution_count": null,
   "metadata": {},
   "outputs": [],
   "source": []
  },
  {
   "cell_type": "code",
   "execution_count": null,
   "metadata": {},
   "outputs": [],
   "source": []
  },
  {
   "cell_type": "markdown",
   "metadata": {},
   "source": [
    "### Respuestas Estudiate 2. Gerardo"
   ]
  },
  {
   "cell_type": "markdown",
   "metadata": {},
   "source": [
    "1° Obtener función inversa asumiendo que $F(x)$ (función de distribución o de probabilidad acumulada) es uniforme continua:\n",
    "$$F(x) = \\frac{2}{\\pi}\\sin^{-1} (\\sqrt x) = U$$\n",
    "$$2\\sin^{-1} (\\sqrt x) = U\\pi$$$$\\sin^{-1} (\\sqrt x) = \\frac{U\\pi}{2}$$$$\\sqrt x = \\sin(\\frac{U\\pi}{2})$$$$x = \\sin^{2} (\\frac{U\\pi}{2}) = F_{inv}$$\n",
    "\n",
    "2° Obtener función de densidad $f(x)$ a partir de la función de distribución -probabilidad acumulada\n",
    "$$\\frac{dF(x)}{d(x)} = f(x)$$$$f(x) = \\frac{d}{dx} (\\frac{2}{\\pi} \\sin^{-1} \\sqrt x )$$\n",
    "$$f(x) = \\frac{1}{\\pi \\sqrt{1-x} \\sqrt x}$$"
   ]
  },
  {
   "cell_type": "code",
   "execution_count": 2,
   "metadata": {},
   "outputs": [],
   "source": [
    "def movbrowniano(N: 'Número de muestras'):\n",
    "    return (np.sin((np.pi/2)*np.random.rand(N)))**2"
   ]
  },
  {
   "cell_type": "code",
   "execution_count": 5,
   "metadata": {},
   "outputs": [
    {
     "data": {
      "image/png": "[encoded data removed]",
      "text/plain": [
       "<Figure size 432x288 with 1 Axes>"
      ]
     },
     "metadata": {
      "needs_background": "light"
     },
     "output_type": "display_data"
    }
   ],
   "source": [
    "#Datos\n",
    "N = 1000 \n",
    "x = movbrowniano(N) # función transformada inversa de la función de distribución\n",
    "plt.hist(x,bins = 50, density = True, label = 'datos generados') #histograma de la TI\n",
    "plt.xlabel('valores aleatorios')\n",
    "plt.ylabel('probabilidad')\n",
    "plt.title('histograma con el método de la TI')\n",
    "\n",
    "x = np.linspace(0.01,0.99,200)\n",
    "y = lambda x: 1/(np.pi*(np.sqrt(x*(1-x))))\n",
    "plt.plot(x,y(x),'k',lw = 3, label = 'Función de distribución')\n",
    "plt.title('Histograma de los datos por método de transformada inversa')\n",
    "plt.ylabel('Probabilidad')\n",
    "plt.xlabel('Valores aleatorios')\n",
    "plt.legend()\n",
    "plt.show()"
   ]
  },
  {
   "cell_type": "markdown",
   "metadata": {},
   "source": []
  },
  {
   "cell_type": "markdown",
   "metadata": {},
   "source": [
    "> 2. Generación variable aleatoria Discreta\n",
    "> La distribución binomial modela el número de éxitos de n ensayos independientes donde hay una probabilidad p de éxito en cada ensayo.\n",
    "> Generar una variable aletoria binomial con parámetros $n=10$ y $p=0.7$. Recordar que $$X\\sim binomial(n,p) \\longrightarrow p_i=P(X=i)=\\frac{n!}{i!(n-i)!}p^i(1-p)^{n-i},\\quad i=0,1,\\cdots,n$$\n",
    "> Por propiedades de la operación factorial la anterior $p_i$ se puede escribir como:\n",
    "> $$p_{i+1}=\\frac{n-i}{i+1}\\frac{p}{1-p} p_i $$\n",
    "\n",
    "> *Nota:* Por notación recuerde que para el caso continuo $f(x)$ es la distribución de probabilidad (PDF), mientras $F(x)$ corresponde a la distribución de probabilidad acumulada (CDF). Para el caso discreto, $P(X=i)$ corresponde a su distribución de probabilidad (PMF) y $ F_{X}(x)=\\operatorname {P} (X\\leq x)=\\sum {x{i}\\leq x}\\operatorname {P} (X=x_{i})=\\sum {x{i}\\leq x}p(x_{i})$, corresponde a su distribución de probabilidad acumulada (CDF)."
   ]
  },
  {
   "cell_type": "code",
   "execution_count": 6,
   "metadata": {},
   "outputs": [],
   "source": [
    "def Gen_distr_discreta(p_acum: 'P.Acumulada de la distribución a generar',\n",
    "                       indices: 'valores reales a generar aleatoriamente',\n",
    "                       N: 'cantidad de números aleatorios a generar'):\n",
    "    \n",
    "    U =np.random.rand(N)\n",
    "    # Diccionario de valores aleatorios\n",
    "    rand2reales = {i: idx for i, idx in enumerate(indices)}\n",
    "\n",
    "    # Series de los valores aletorios\n",
    "    y = pd.Series([sum([1 for p in p_acum if p < ui]) for ui in U]).map(rand2reales)\n",
    "\n",
    "    return y"
   ]
  },
  {
   "cell_type": "code",
   "execution_count": 7,
   "metadata": {},
   "outputs": [],
   "source": [
    "def Binomial_acum(n:'Valor n de binomial',p:'Probabilidad'):\n",
    "    Pr = np.zeros(n)\n",
    "    Pr[0] = (1-p)**n\n",
    "    def pr(i):\n",
    "        nonlocal Pr\n",
    "        Pr[i+1]=((p/(1-p))*(n-i)/(i+1))*Pr[i]\n",
    "    [pr(i) for i in range(n-1)]\n",
    "    return np.cumsum(Pr)"
   ]
  },
  {
   "cell_type": "code",
   "execution_count": 8,
   "metadata": {},
   "outputs": [],
   "source": [
    "N = 1000\n",
    "n = 10\n",
    "p = 0.7\n",
    "dis = Binomial_acum(n,p)\n",
    "muestra = Gen_distr_discreta(dis,np.arange(0, n+1),N)\n"
   ]
  },
  {
   "cell_type": "code",
   "execution_count": 10,
   "metadata": {},
   "outputs": [
    {
     "data": {
      "image/png": "[encoded data removed]",
      "text/plain": [
       "<Figure size 720x288 with 1 Axes>"
      ]
     },
     "metadata": {
      "needs_background": "light"
     },
     "output_type": "display_data"
    },
    {
     "data": {
      "image/png": "[encoded data removed]",
      "text/plain": [
       "<Figure size 720x288 with 1 Axes>"
      ]
     },
     "metadata": {
      "needs_background": "light"
     },
     "output_type": "display_data"
    }
   ],
   "source": [
    "# Histograma de la muestra generada por el método de la transformada inversa\n",
    "plt.figure(figsize=[10,4])\n",
    "y, x = np.histogram(muestra, bins=len(set(muestra)), density=True) \n",
    "plt.bar(range(min(muestra),11), y, label='Transformada inversa')\n",
    "plt.legend()\n",
    "plt.title('Histograma de la función de distribución con el método de la transformada inversa')\n",
    "plt.show()\n",
    "\n",
    "# Distribución de probabilidad original\n",
    "bino = np.random.binomial(n,p,N)\n",
    "plt.figure(figsize=[10,4])\n",
    "y1, x1 = np.histogram(muestra, bins=len(set(muestra)), density=True) \n",
    "plt.bar(x[1:], y, color = '#C70039',label='Distribución binomial n=10, p = 0.7')\n",
    "plt.title('Distribución de probabilidad binomial')\n",
    "plt.legend()\n",
    "plt.show()"
   ]
  },
  {
   "cell_type": "code",
   "execution_count": null,
   "metadata": {},
   "outputs": [],
   "source": []
  }
 ],
 "metadata": {
  "kernelspec": {
   "display_name": "Python 3",
   "language": "python",
   "name": "python3"
  },
  "language_info": {
   "codemirror_mode": {
    "name": "ipython",
    "version": 3
   },
   "file_extension": ".py",
   "mimetype": "text/x-python",
   "name": "python",
   "nbconvert_exporter": "python",
   "pygments_lexer": "ipython3",
   "version": "3.7.3"
  }
 },
 "nbformat": 4,
 "nbformat_minor": 2
}
